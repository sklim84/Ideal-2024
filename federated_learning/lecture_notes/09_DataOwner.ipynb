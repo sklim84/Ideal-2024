{
 "cells": [
  {
   "cell_type": "markdown",
   "id": "815de51c",
   "metadata": {},
   "source": [
    "# 듀엣 데이터 보유자 측"
   ]
  },
  {
   "cell_type": "code",
   "execution_count": 1,
   "id": "779155d1",
   "metadata": {},
   "outputs": [
    {
     "name": "stdout",
     "output_type": "stream",
     "text": [
      "🎤  🎸  ♪♪♪ Starting Duet ♫♫♫  🎻  🎹\n",
      "\n",
      "♫♫♫ >\u001b[93m DISCLAIMER\u001b[0m: \u001b[1mDuet is an experimental feature currently in beta.\n",
      "♫♫♫ > Use at your own risk.\n",
      "\u001b[0m\n",
      "\u001b[1m\n",
      "    > ❤️ \u001b[91mLove\u001b[0m \u001b[92mDuet\u001b[0m? \u001b[93mPlease\u001b[0m \u001b[94mconsider\u001b[0m \u001b[95msupporting\u001b[0m \u001b[91mour\u001b[0m \u001b[93mcommunity!\u001b[0m\n",
      "    > https://github.com/sponsors/OpenMined\u001b[1m\n",
      "\n",
      "♫♫♫ > Punching through firewall to OpenGrid Network Node at:\n",
      "♫♫♫ > http://ec2-18-218-7-180.us-east-2.compute.amazonaws.com:5000\n",
      "♫♫♫ >\n",
      "♫♫♫ > ...waiting for response from OpenGrid Network... \n",
      "♫♫♫ > \u001b[92mDONE!\u001b[0m\n",
      "♫♫♫ > Duet Server ID: \u001b[1md65b5ca1d2319946bf05088277bffe1b\u001b[0m\n",
      "\n",
      "♫♫♫ > \u001b[95mSTEP 1:\u001b[0m Send the following code to your Duet Partner!\n",
      "\n",
      "import syft as sy\n",
      "duet = sy.duet(\"\u001b[1md65b5ca1d2319946bf05088277bffe1b\u001b[0m\")\n",
      "\n",
      "♫♫♫ > \u001b[95mSTEP 2:\u001b[0m Ask your partner for their Client ID and enter it below!\n",
      "♫♫♫ > Duet Partner's Client ID: 3063b4e283cf2f1f2976c6c10ad69033\n",
      "\n",
      "♫♫♫ > Connecting...\n",
      "\n",
      "♫♫♫ > \u001b[92mCONNECTED!\u001b[0m\n",
      "\n",
      "♫♫♫ > DUET LIVE STATUS  *  Objects: 14  Requests: 0   Messages: 119510  Request Handlers: 1                                                         \r"
     ]
    }
   ],
   "source": [
    "import syft as sy\n",
    "duet = sy.launch_duet() #듀엣 서버 열기\n",
    "sy.logger.add(sink=\"./syft_do.log\") #log출력"
   ]
  },
  {
   "cell_type": "markdown",
   "id": "e97fc1ef",
   "metadata": {},
   "source": [
    "# iid 2 client로 분할해놓은 데이터셋을 불러옴"
   ]
  },
  {
   "cell_type": "code",
   "execution_count": 2,
   "id": "7eeeae2c",
   "metadata": {},
   "outputs": [],
   "source": [
    "import numpy as np\n",
    "import torch\n",
    "import torch.nn.functional as F\n",
    "client1=np.load(\"./dataset/client1.npz\")"
   ]
  },
  {
   "cell_type": "code",
   "execution_count": 3,
   "id": "aa4e6811",
   "metadata": {},
   "outputs": [],
   "source": [
    "x_train =client1.get(\"x_train\")\n",
    "x_train=torch.from_numpy(x_train).float() #이미지는 float\n",
    "y_train =client1.get(\"y_train\")\n",
    "y_train=torch.from_numpy(y_train).long() #label은 정수로"
   ]
  },
  {
   "cell_type": "code",
   "execution_count": 4,
   "id": "f09f5274",
   "metadata": {},
   "outputs": [
    {
     "data": {
      "text/plain": [
       "<syft.proxy.torch.TensorPointer at 0x7f6adb5eca30>"
      ]
     },
     "execution_count": 4,
     "metadata": {},
     "output_type": "execute_result"
    }
   ],
   "source": [
    "#duet에 데이터를 저장하기위해 요구대로 tag와 describe 추가\n",
    "x_train=x_train.tag(\"x_train\") \n",
    "x_train=x_train.describe(\"Dataset of 30000 samples\")\n",
    "x_train.send(duet, pointable=True)\n",
    "\n",
    "y_train=y_train.tag(\"y_train\")\n",
    "y_train=y_train.describe(\"Dataset of 30000 samples\")\n",
    "y_train.send(duet, pointable=True)"
   ]
  },
  {
   "cell_type": "code",
   "execution_count": 5,
   "id": "7f3e557e",
   "metadata": {},
   "outputs": [
    {
     "name": "stdout",
     "output_type": "stream",
     "text": [
      "torch.Size([5000, 1, 28, 28]) torch.Size([5000])\n"
     ]
    }
   ],
   "source": [
    "x_test =client1.get(\"x_test\")\n",
    "x_test=torch.from_numpy(x_test).float()\n",
    "y_test =client1.get(\"y_test\")\n",
    "y_test=torch.from_numpy(y_test).long()\n",
    "print(x_test.shape, y_test.shape)"
   ]
  },
  {
   "cell_type": "code",
   "execution_count": 6,
   "id": "4fe5975f",
   "metadata": {},
   "outputs": [
    {
     "data": {
      "text/plain": [
       "<syft.proxy.torch.TensorPointer at 0x7f6adb0384f0>"
      ]
     },
     "execution_count": 6,
     "metadata": {},
     "output_type": "execute_result"
    }
   ],
   "source": [
    "x_test=x_test.tag(\"x_test\")\n",
    "x_test=x_test.describe(\"Dataset of 5000 samples\")\n",
    "x_test.send(duet, pointable=True)\n",
    "\n",
    "y_test=y_test.tag(\"y_test\")\n",
    "y_test=y_test.describe(\"Dataset of 5000 samples\")\n",
    "y_test.send(duet, pointable=True)"
   ]
  },
  {
   "cell_type": "code",
   "execution_count": 7,
   "id": "74f4af82",
   "metadata": {},
   "outputs": [
    {
     "data": {
      "text/html": [
       "<div>\n",
       "<style scoped>\n",
       "    .dataframe tbody tr th:only-of-type {\n",
       "        vertical-align: middle;\n",
       "    }\n",
       "\n",
       "    .dataframe tbody tr th {\n",
       "        vertical-align: top;\n",
       "    }\n",
       "\n",
       "    .dataframe thead th {\n",
       "        text-align: right;\n",
       "    }\n",
       "</style>\n",
       "<table border=\"1\" class=\"dataframe\">\n",
       "  <thead>\n",
       "    <tr style=\"text-align: right;\">\n",
       "      <th></th>\n",
       "      <th>ID</th>\n",
       "      <th>Tags</th>\n",
       "      <th>Description</th>\n",
       "      <th>object_type</th>\n",
       "    </tr>\n",
       "  </thead>\n",
       "  <tbody>\n",
       "    <tr>\n",
       "      <th>0</th>\n",
       "      <td>&lt;UID: 302ab3e42798406aa8e3c8c7cdca4a2a&gt;</td>\n",
       "      <td>[x_train]</td>\n",
       "      <td>Dataset of 30000 samples</td>\n",
       "      <td>&lt;class 'torch.Tensor'&gt;</td>\n",
       "    </tr>\n",
       "    <tr>\n",
       "      <th>1</th>\n",
       "      <td>&lt;UID: 3191f50488ea46d6b4377a1de71e0dbb&gt;</td>\n",
       "      <td>[y_train]</td>\n",
       "      <td>Dataset of 30000 samples</td>\n",
       "      <td>&lt;class 'torch.Tensor'&gt;</td>\n",
       "    </tr>\n",
       "    <tr>\n",
       "      <th>2</th>\n",
       "      <td>&lt;UID: 67adb114b96b4a67ac9d6f4e729f0ec1&gt;</td>\n",
       "      <td>[x_test]</td>\n",
       "      <td>Dataset of 5000 samples</td>\n",
       "      <td>&lt;class 'torch.Tensor'&gt;</td>\n",
       "    </tr>\n",
       "    <tr>\n",
       "      <th>3</th>\n",
       "      <td>&lt;UID: b0611b7a9c1c4c93b13253ab5e1cc5fe&gt;</td>\n",
       "      <td>[y_test]</td>\n",
       "      <td>Dataset of 5000 samples</td>\n",
       "      <td>&lt;class 'torch.Tensor'&gt;</td>\n",
       "    </tr>\n",
       "  </tbody>\n",
       "</table>\n",
       "</div>"
      ],
      "text/plain": [
       "                                        ID       Tags  \\\n",
       "0  <UID: 302ab3e42798406aa8e3c8c7cdca4a2a>  [x_train]   \n",
       "1  <UID: 3191f50488ea46d6b4377a1de71e0dbb>  [y_train]   \n",
       "2  <UID: 67adb114b96b4a67ac9d6f4e729f0ec1>   [x_test]   \n",
       "3  <UID: b0611b7a9c1c4c93b13253ab5e1cc5fe>   [y_test]   \n",
       "\n",
       "                Description             object_type  \n",
       "0  Dataset of 30000 samples  <class 'torch.Tensor'>  \n",
       "1  Dataset of 30000 samples  <class 'torch.Tensor'>  \n",
       "2   Dataset of 5000 samples  <class 'torch.Tensor'>  \n",
       "3   Dataset of 5000 samples  <class 'torch.Tensor'>  "
      ]
     },
     "execution_count": 7,
     "metadata": {},
     "output_type": "execute_result"
    }
   ],
   "source": [
    "duet.store.pandas #데이터가 잘 저장되어있는지 확인"
   ]
  },
  {
   "cell_type": "code",
   "execution_count": 8,
   "id": "fb817702",
   "metadata": {
    "scrolled": false
   },
   "outputs": [
    {
     "data": {
      "text/html": [
       "<div>\n",
       "<style scoped>\n",
       "    .dataframe tbody tr th:only-of-type {\n",
       "        vertical-align: middle;\n",
       "    }\n",
       "\n",
       "    .dataframe tbody tr th {\n",
       "        vertical-align: top;\n",
       "    }\n",
       "\n",
       "    .dataframe thead th {\n",
       "        text-align: right;\n",
       "    }\n",
       "</style>\n",
       "<table border=\"1\" class=\"dataframe\">\n",
       "  <thead>\n",
       "    <tr style=\"text-align: right;\">\n",
       "      <th></th>\n",
       "    </tr>\n",
       "  </thead>\n",
       "  <tbody>\n",
       "  </tbody>\n",
       "</table>\n",
       "</div>"
      ],
      "text/plain": [
       "Empty DataFrame\n",
       "Columns: []\n",
       "Index: []"
      ]
     },
     "execution_count": 8,
     "metadata": {},
     "output_type": "execute_result"
    }
   ],
   "source": [
    "duet.requests.pandas"
   ]
  },
  {
   "cell_type": "code",
   "execution_count": 9,
   "id": "5bde3b19",
   "metadata": {},
   "outputs": [],
   "source": [
    "#명령 처리 부 \n",
    "duet.requests.add_handler(\n",
    "    action=\"accept\"\n",
    ")"
   ]
  },
  {
   "cell_type": "code",
   "execution_count": 10,
   "id": "27e65be9",
   "metadata": {},
   "outputs": [
    {
     "data": {
      "text/html": [
       "<div>\n",
       "<style scoped>\n",
       "    .dataframe tbody tr th:only-of-type {\n",
       "        vertical-align: middle;\n",
       "    }\n",
       "\n",
       "    .dataframe tbody tr th {\n",
       "        vertical-align: top;\n",
       "    }\n",
       "\n",
       "    .dataframe thead th {\n",
       "        text-align: right;\n",
       "    }\n",
       "</style>\n",
       "<table border=\"1\" class=\"dataframe\">\n",
       "  <thead>\n",
       "    <tr style=\"text-align: right;\">\n",
       "      <th></th>\n",
       "    </tr>\n",
       "  </thead>\n",
       "  <tbody>\n",
       "  </tbody>\n",
       "</table>\n",
       "</div>"
      ],
      "text/plain": [
       "Empty DataFrame\n",
       "Columns: []\n",
       "Index: []"
      ]
     },
     "execution_count": 10,
     "metadata": {},
     "output_type": "execute_result"
    }
   ],
   "source": [
    "duet.requests.pandas"
   ]
  },
  {
   "cell_type": "code",
   "execution_count": null,
   "id": "85474e02",
   "metadata": {},
   "outputs": [],
   "source": []
  }
 ],
 "metadata": {
  "kernelspec": {
   "display_name": "pysyft2",
   "language": "python",
   "name": "pysyft2"
  },
  "language_info": {
   "codemirror_mode": {
    "name": "ipython",
    "version": 3
   },
   "file_extension": ".py",
   "mimetype": "text/x-python",
   "name": "python",
   "nbconvert_exporter": "python",
   "pygments_lexer": "ipython3",
   "version": "3.9.5"
  }
 },
 "nbformat": 4,
 "nbformat_minor": 5
}
