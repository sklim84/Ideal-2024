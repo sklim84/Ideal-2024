{
 "cells": [
  {
   "cell_type": "code",
   "execution_count": 1,
   "id": "a04049e4",
   "metadata": {},
   "outputs": [
    {
     "name": "stdout",
     "output_type": "stream",
     "text": [
      "🎤  🎸  ♪♪♪ Starting Duet ♫♫♫  🎻  🎹\n",
      "\n",
      "♫♫♫ >\u001b[93m DISCLAIMER\u001b[0m: \u001b[1mDuet is an experimental feature currently in beta.\n",
      "♫♫♫ > Use at your own risk.\n",
      "\u001b[0m\n",
      "\u001b[1m\n",
      "    > ❤️ \u001b[91mLove\u001b[0m \u001b[92mDuet\u001b[0m? \u001b[93mPlease\u001b[0m \u001b[94mconsider\u001b[0m \u001b[95msupporting\u001b[0m \u001b[91mour\u001b[0m \u001b[93mcommunity!\u001b[0m\n",
      "    > https://github.com/sponsors/OpenMined\u001b[1m\n",
      "\n",
      "♫♫♫ > Punching through firewall to OpenGrid Network Node at:\n",
      "♫♫♫ > http://ec2-18-218-7-180.us-east-2.compute.amazonaws.com:5000\n",
      "♫♫♫ >\n",
      "♫♫♫ > ...waiting for response from OpenGrid Network... \n",
      "♫♫♫ > \u001b[92mDONE!\u001b[0m\n",
      "♫♫♫ > Duet Server ID: \u001b[1m90f5a918a6706ecc9e579b9a6c130f90\u001b[0m\n",
      "\n",
      "♫♫♫ > \u001b[95mSTEP 1:\u001b[0m Send the following code to your Duet Partner!\n",
      "\n",
      "import syft as sy\n",
      "duet = sy.duet(\"\u001b[1m90f5a918a6706ecc9e579b9a6c130f90\u001b[0m\")\n",
      "\n",
      "♫♫♫ > \u001b[95mSTEP 2:\u001b[0m Ask your partner for their Client ID and enter it below!\n",
      "♫♫♫ > Duet Partner's Client ID: 38e56b1696f7651cef222d3777b229f0\n",
      "\n",
      "♫♫♫ > Connecting...\n",
      "\n",
      "♫♫♫ > \u001b[92mCONNECTED!\u001b[0m\n",
      "\n",
      "♫♫♫ > DUET LIVE STATUS  -  Objects: 18  Requests: 0   Messages: 101423  Request Handlers: 1                                                        \r"
     ]
    }
   ],
   "source": [
    "import syft as sy\n",
    "duet = sy.launch_duet() #듀엣 서버 열기\n",
    "sy.logger.add(sink=\"./syft_do.log\") #log출력"
   ]
  },
  {
   "cell_type": "code",
   "execution_count": 2,
   "id": "c68ed821",
   "metadata": {},
   "outputs": [],
   "source": [
    "import numpy as np\n",
    "import torch\n",
    "import torch.nn.functional as F\n",
    "client2=np.load(\"./dataset/client2.npz\")"
   ]
  },
  {
   "cell_type": "code",
   "execution_count": 3,
   "id": "b8b625dd",
   "metadata": {},
   "outputs": [],
   "source": [
    "x_train =client2.get(\"x_train\")\n",
    "x_train=torch.from_numpy(x_train).float() #이미지는 float\n",
    "y_train =client2.get(\"y_train\")\n",
    "y_train=torch.from_numpy(y_train).long() #label은 정수로"
   ]
  },
  {
   "cell_type": "code",
   "execution_count": 4,
   "id": "3b5fe84d",
   "metadata": {},
   "outputs": [
    {
     "data": {
      "text/plain": [
       "<syft.proxy.torch.TensorPointer at 0x7f640746a940>"
      ]
     },
     "execution_count": 4,
     "metadata": {},
     "output_type": "execute_result"
    }
   ],
   "source": [
    "#duet에 데이터를 저장하기위해 요구대로 tag와 describe 추가\n",
    "x_train=x_train.tag(\"x_train\") \n",
    "x_train=x_train.describe(\"Dataset of 30000 samples\")\n",
    "x_train.send(duet, pointable=True)\n",
    "\n",
    "y_train=y_train.tag(\"y_train\")\n",
    "y_train=y_train.describe(\"Dataset of 30000 samples\")\n",
    "y_train.send(duet, pointable=True)"
   ]
  },
  {
   "cell_type": "code",
   "execution_count": 5,
   "id": "ed405649",
   "metadata": {},
   "outputs": [
    {
     "name": "stdout",
     "output_type": "stream",
     "text": [
      "torch.Size([5000, 1, 28, 28]) torch.Size([5000])\n"
     ]
    }
   ],
   "source": [
    "x_test =client2.get(\"x_test\")\n",
    "x_test=torch.from_numpy(x_test).float()\n",
    "y_test =client2.get(\"y_test\")\n",
    "y_test=torch.from_numpy(y_test).long()\n",
    "print(x_test.shape, y_test.shape)"
   ]
  },
  {
   "cell_type": "code",
   "execution_count": 6,
   "id": "f6a1853e",
   "metadata": {},
   "outputs": [
    {
     "data": {
      "text/plain": [
       "<syft.proxy.torch.TensorPointer at 0x7f64074876d0>"
      ]
     },
     "execution_count": 6,
     "metadata": {},
     "output_type": "execute_result"
    }
   ],
   "source": [
    "x_test=x_test.tag(\"x_test\")\n",
    "x_test=x_test.describe(\"Dataset of 5000 samples\")\n",
    "x_test.send(duet, pointable=True)\n",
    "\n",
    "y_test=y_test.tag(\"y_test\")\n",
    "y_test=y_test.describe(\"Dataset of 5000 samples\")\n",
    "y_test.send(duet, pointable=True)"
   ]
  },
  {
   "cell_type": "code",
   "execution_count": 7,
   "id": "03740b6e",
   "metadata": {},
   "outputs": [
    {
     "data": {
      "text/html": [
       "<div>\n",
       "<style scoped>\n",
       "    .dataframe tbody tr th:only-of-type {\n",
       "        vertical-align: middle;\n",
       "    }\n",
       "\n",
       "    .dataframe tbody tr th {\n",
       "        vertical-align: top;\n",
       "    }\n",
       "\n",
       "    .dataframe thead th {\n",
       "        text-align: right;\n",
       "    }\n",
       "</style>\n",
       "<table border=\"1\" class=\"dataframe\">\n",
       "  <thead>\n",
       "    <tr style=\"text-align: right;\">\n",
       "      <th></th>\n",
       "      <th>ID</th>\n",
       "      <th>Tags</th>\n",
       "      <th>Description</th>\n",
       "      <th>object_type</th>\n",
       "    </tr>\n",
       "  </thead>\n",
       "  <tbody>\n",
       "    <tr>\n",
       "      <th>0</th>\n",
       "      <td>&lt;UID: a0f0c6a89a264a64974f84ba1574f980&gt;</td>\n",
       "      <td>[x_train]</td>\n",
       "      <td>Dataset of 30000 samples</td>\n",
       "      <td>&lt;class 'torch.Tensor'&gt;</td>\n",
       "    </tr>\n",
       "    <tr>\n",
       "      <th>1</th>\n",
       "      <td>&lt;UID: ce8affff3db3466389b2dd8617f333d9&gt;</td>\n",
       "      <td>[y_train]</td>\n",
       "      <td>Dataset of 30000 samples</td>\n",
       "      <td>&lt;class 'torch.Tensor'&gt;</td>\n",
       "    </tr>\n",
       "    <tr>\n",
       "      <th>2</th>\n",
       "      <td>&lt;UID: 5f531de3a296488fbcd0968bda16879f&gt;</td>\n",
       "      <td>[x_test]</td>\n",
       "      <td>Dataset of 5000 samples</td>\n",
       "      <td>&lt;class 'torch.Tensor'&gt;</td>\n",
       "    </tr>\n",
       "    <tr>\n",
       "      <th>3</th>\n",
       "      <td>&lt;UID: 9cfef27ded0343fba8c3c1a7dc8f34e8&gt;</td>\n",
       "      <td>[y_test]</td>\n",
       "      <td>Dataset of 5000 samples</td>\n",
       "      <td>&lt;class 'torch.Tensor'&gt;</td>\n",
       "    </tr>\n",
       "  </tbody>\n",
       "</table>\n",
       "</div>"
      ],
      "text/plain": [
       "                                        ID       Tags  \\\n",
       "0  <UID: a0f0c6a89a264a64974f84ba1574f980>  [x_train]   \n",
       "1  <UID: ce8affff3db3466389b2dd8617f333d9>  [y_train]   \n",
       "2  <UID: 5f531de3a296488fbcd0968bda16879f>   [x_test]   \n",
       "3  <UID: 9cfef27ded0343fba8c3c1a7dc8f34e8>   [y_test]   \n",
       "\n",
       "                Description             object_type  \n",
       "0  Dataset of 30000 samples  <class 'torch.Tensor'>  \n",
       "1  Dataset of 30000 samples  <class 'torch.Tensor'>  \n",
       "2   Dataset of 5000 samples  <class 'torch.Tensor'>  \n",
       "3   Dataset of 5000 samples  <class 'torch.Tensor'>  "
      ]
     },
     "execution_count": 7,
     "metadata": {},
     "output_type": "execute_result"
    }
   ],
   "source": [
    "duet.store.pandas #데이터가 잘 저장되어있는지 확인"
   ]
  },
  {
   "cell_type": "code",
   "execution_count": 8,
   "id": "0ddd532f",
   "metadata": {},
   "outputs": [
    {
     "data": {
      "text/html": [
       "<div>\n",
       "<style scoped>\n",
       "    .dataframe tbody tr th:only-of-type {\n",
       "        vertical-align: middle;\n",
       "    }\n",
       "\n",
       "    .dataframe tbody tr th {\n",
       "        vertical-align: top;\n",
       "    }\n",
       "\n",
       "    .dataframe thead th {\n",
       "        text-align: right;\n",
       "    }\n",
       "</style>\n",
       "<table border=\"1\" class=\"dataframe\">\n",
       "  <thead>\n",
       "    <tr style=\"text-align: right;\">\n",
       "      <th></th>\n",
       "    </tr>\n",
       "  </thead>\n",
       "  <tbody>\n",
       "  </tbody>\n",
       "</table>\n",
       "</div>"
      ],
      "text/plain": [
       "Empty DataFrame\n",
       "Columns: []\n",
       "Index: []"
      ]
     },
     "execution_count": 8,
     "metadata": {},
     "output_type": "execute_result"
    }
   ],
   "source": [
    "duet.requests.pandas"
   ]
  },
  {
   "cell_type": "code",
   "execution_count": 9,
   "id": "74ececfe",
   "metadata": {},
   "outputs": [],
   "source": [
    "#명령 처리 부 \n",
    "duet.requests.add_handler(\n",
    "    action=\"accept\"\n",
    ")"
   ]
  },
  {
   "cell_type": "code",
   "execution_count": 10,
   "id": "12af468a",
   "metadata": {},
   "outputs": [
    {
     "data": {
      "text/html": [
       "<div>\n",
       "<style scoped>\n",
       "    .dataframe tbody tr th:only-of-type {\n",
       "        vertical-align: middle;\n",
       "    }\n",
       "\n",
       "    .dataframe tbody tr th {\n",
       "        vertical-align: top;\n",
       "    }\n",
       "\n",
       "    .dataframe thead th {\n",
       "        text-align: right;\n",
       "    }\n",
       "</style>\n",
       "<table border=\"1\" class=\"dataframe\">\n",
       "  <thead>\n",
       "    <tr style=\"text-align: right;\">\n",
       "      <th></th>\n",
       "    </tr>\n",
       "  </thead>\n",
       "  <tbody>\n",
       "  </tbody>\n",
       "</table>\n",
       "</div>"
      ],
      "text/plain": [
       "Empty DataFrame\n",
       "Columns: []\n",
       "Index: []"
      ]
     },
     "execution_count": 10,
     "metadata": {},
     "output_type": "execute_result"
    }
   ],
   "source": [
    "duet.requests.pandas"
   ]
  },
  {
   "cell_type": "code",
   "execution_count": null,
   "id": "123f169e",
   "metadata": {},
   "outputs": [],
   "source": []
  },
  {
   "cell_type": "code",
   "execution_count": null,
   "id": "ed6a045f",
   "metadata": {},
   "outputs": [],
   "source": []
  }
 ],
 "metadata": {
  "kernelspec": {
   "display_name": "pysyft2",
   "language": "python",
   "name": "pysyft2"
  },
  "language_info": {
   "codemirror_mode": {
    "name": "ipython",
    "version": 3
   },
   "file_extension": ".py",
   "mimetype": "text/x-python",
   "name": "python",
   "nbconvert_exporter": "python",
   "pygments_lexer": "ipython3",
   "version": "3.9.5"
  }
 },
 "nbformat": 4,
 "nbformat_minor": 5
}
