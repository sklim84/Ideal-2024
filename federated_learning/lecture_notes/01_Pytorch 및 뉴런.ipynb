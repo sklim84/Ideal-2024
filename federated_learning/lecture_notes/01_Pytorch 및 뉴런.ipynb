{
 "cells": [
  {
   "cell_type": "code",
   "execution_count": 1,
   "id": "a2d6d55e",
   "metadata": {},
   "outputs": [],
   "source": [
    "import torch"
   ]
  },
  {
   "cell_type": "code",
   "execution_count": 2,
   "id": "2aa6cbb0",
   "metadata": {},
   "outputs": [
    {
     "data": {
      "text/plain": [
       "'1.8.1+cu102'"
      ]
     },
     "execution_count": 2,
     "metadata": {},
     "output_type": "execute_result"
    }
   ],
   "source": [
    "torch.__version__"
   ]
  },
  {
   "cell_type": "markdown",
   "id": "f1376be1",
   "metadata": {},
   "source": [
    "Pytorch\n",
    "\n",
    "- NumPy와 유사하지만 GPU 상에서 실행 가능한 N차원 Tensor\n",
    "\n",
    "- 신경망을 구성하고 학습하는 과정에서 자동 미분\n",
    "\n",
    "- 신경망을 생성하고 학습시키기 위해 torch.nn, torch.optim, Dataset, DataLoader 등의 모듈과 클래스를 제공함\n"
   ]
  },
  {
   "cell_type": "markdown",
   "id": "e541bb1c",
   "metadata": {},
   "source": [
    "__PyTorch Tensor__는 GPU를 활용하여 수치 연산을 가속화할 수 있다. GPU에서 PyTorch Tensor를 사용하기 위해서는 자료형 변환을 수행하면됨\n",
    "\n",
    "\n",
    "__torch.autograd__를 사용하여 신경망에서 역전파 단계의 연산을 자동화함\n",
    "\n",
    "__torch.nn 모듈__은 신경망 구축하기위한 다양한 데이터 구조나 계층을 정의하고 있음\n",
    "__optim 모듈__은 최적화 알고리즘을 구현하고 있음\n",
    "\n",
    "__torch.utils.data 모듈__은 SGD의 반복 연산을 위한 미니 배치 데이터 유틸리티 함수\n"
   ]
  },
  {
   "cell_type": "code",
   "execution_count": 4,
   "id": "388f6012",
   "metadata": {},
   "outputs": [
    {
     "data": {
      "text/plain": [
       "tensor([1., 2., 3.])"
      ]
     },
     "execution_count": 4,
     "metadata": {},
     "output_type": "execute_result"
    }
   ],
   "source": [
    "x = torch.Tensor([1,2,3])\n",
    "x"
   ]
  },
  {
   "cell_type": "code",
   "execution_count": 5,
   "id": "b730bb12",
   "metadata": {},
   "outputs": [
    {
     "name": "stdout",
     "output_type": "stream",
     "text": [
      "dimension: 1\n",
      "shape: torch.Size([3])\n",
      "size: torch.Size([3])\n"
     ]
    }
   ],
   "source": [
    "print(\"dimension:\",x.dim())\n",
    "print(\"shape:\", x.shape)\n",
    "print(\"size:\", x.size())"
   ]
  },
  {
   "cell_type": "markdown",
   "id": "39cdbe60",
   "metadata": {},
   "source": [
    "# 인덱스, 슬라이싱"
   ]
  },
  {
   "cell_type": "code",
   "execution_count": 6,
   "id": "6d22c104",
   "metadata": {},
   "outputs": [
    {
     "name": "stdout",
     "output_type": "stream",
     "text": [
      "tensor(1.) tensor(2.) tensor(3.)\n"
     ]
    }
   ],
   "source": [
    "print(x[0],x[1], x[-1])"
   ]
  },
  {
   "cell_type": "code",
   "execution_count": 7,
   "id": "a3852e86",
   "metadata": {},
   "outputs": [
    {
     "name": "stdout",
     "output_type": "stream",
     "text": [
      "tensor([1.]) tensor([1., 2.])\n"
     ]
    }
   ],
   "source": [
    "print(x[0:1], x[0:2])"
   ]
  },
  {
   "cell_type": "code",
   "execution_count": 8,
   "id": "29e6da6c",
   "metadata": {},
   "outputs": [
    {
     "data": {
      "text/plain": [
       "torch.Size([3])"
      ]
     },
     "execution_count": 8,
     "metadata": {},
     "output_type": "execute_result"
    }
   ],
   "source": [
    "x.shape"
   ]
  },
  {
   "cell_type": "markdown",
   "id": "47e77659",
   "metadata": {},
   "source": [
    "#  사칙연산"
   ]
  },
  {
   "cell_type": "code",
   "execution_count": 9,
   "id": "6a5d94cd",
   "metadata": {
    "scrolled": true
   },
   "outputs": [
    {
     "data": {
      "text/plain": [
       "tensor([3., 4., 5.])"
      ]
     },
     "execution_count": 9,
     "metadata": {},
     "output_type": "execute_result"
    }
   ],
   "source": [
    "x + torch.Tensor([2,2,2])"
   ]
  },
  {
   "cell_type": "code",
   "execution_count": 10,
   "id": "7d4bb7be",
   "metadata": {},
   "outputs": [
    {
     "data": {
      "text/plain": [
       "tensor([6., 7., 8.])"
      ]
     },
     "execution_count": 10,
     "metadata": {},
     "output_type": "execute_result"
    }
   ],
   "source": [
    "x + 5"
   ]
  },
  {
   "cell_type": "code",
   "execution_count": 11,
   "id": "a0493e5a",
   "metadata": {},
   "outputs": [
    {
     "data": {
      "text/plain": [
       "tensor([-4., -3., -2.])"
      ]
     },
     "execution_count": 11,
     "metadata": {},
     "output_type": "execute_result"
    }
   ],
   "source": [
    "x - 5"
   ]
  },
  {
   "cell_type": "code",
   "execution_count": 12,
   "id": "1390face",
   "metadata": {},
   "outputs": [
    {
     "data": {
      "text/plain": [
       "tensor([ 5., 10., 15.])"
      ]
     },
     "execution_count": 12,
     "metadata": {},
     "output_type": "execute_result"
    }
   ],
   "source": [
    "x * 5"
   ]
  },
  {
   "cell_type": "code",
   "execution_count": 13,
   "id": "c99d6ff0",
   "metadata": {},
   "outputs": [
    {
     "data": {
      "text/plain": [
       "tensor([0.2000, 0.4000, 0.6000])"
      ]
     },
     "execution_count": 13,
     "metadata": {},
     "output_type": "execute_result"
    }
   ],
   "source": [
    "x / 5"
   ]
  },
  {
   "cell_type": "markdown",
   "id": "1a1e6b23",
   "metadata": {},
   "source": [
    "#  2차원 행렬"
   ]
  },
  {
   "cell_type": "code",
   "execution_count": 14,
   "id": "d54045be",
   "metadata": {},
   "outputs": [
    {
     "data": {
      "text/plain": [
       "tensor([[1., 2., 3.],\n",
       "        [4., 5., 6.]])"
      ]
     },
     "execution_count": 14,
     "metadata": {},
     "output_type": "execute_result"
    }
   ],
   "source": [
    "x = torch.Tensor([[1,2,3], [4,5,6]])\n",
    "x"
   ]
  },
  {
   "cell_type": "code",
   "execution_count": 15,
   "id": "a20e6353",
   "metadata": {},
   "outputs": [
    {
     "name": "stdout",
     "output_type": "stream",
     "text": [
      "dimension: 2\n",
      "shape: torch.Size([2, 3])\n",
      "size: torch.Size([2, 3])\n"
     ]
    }
   ],
   "source": [
    "print(\"dimension:\",x.dim())\n",
    "print(\"shape:\", x.shape)\n",
    "print(\"size:\", x.size())"
   ]
  },
  {
   "cell_type": "code",
   "execution_count": 16,
   "id": "f249d8cb",
   "metadata": {
    "scrolled": true
   },
   "outputs": [
    {
     "data": {
      "text/plain": [
       "tensor(2.)"
      ]
     },
     "execution_count": 16,
     "metadata": {},
     "output_type": "execute_result"
    }
   ],
   "source": [
    "x[0,1]"
   ]
  },
  {
   "cell_type": "code",
   "execution_count": 17,
   "id": "42b29e14",
   "metadata": {},
   "outputs": [
    {
     "data": {
      "text/plain": [
       "tensor([[ 6.,  7.,  8.],\n",
       "        [ 9., 10., 11.]])"
      ]
     },
     "execution_count": 17,
     "metadata": {},
     "output_type": "execute_result"
    }
   ],
   "source": [
    "x + 5"
   ]
  },
  {
   "cell_type": "code",
   "execution_count": 18,
   "id": "dc9cf0be",
   "metadata": {},
   "outputs": [
    {
     "data": {
      "text/plain": [
       "tensor([[-0.4701, -0.4127,  1.3669, -0.3670,  0.8240],\n",
       "        [ 0.6500, -0.4337,  0.0027, -1.1248,  0.1089]])"
      ]
     },
     "execution_count": 18,
     "metadata": {},
     "output_type": "execute_result"
    }
   ],
   "source": [
    "x = torch.randn((2,5))\n",
    "x"
   ]
  },
  {
   "cell_type": "code",
   "execution_count": 19,
   "id": "d7d5c077",
   "metadata": {},
   "outputs": [
    {
     "data": {
      "text/plain": [
       "tensor([[1., 2.],\n",
       "        [3., 4.]])"
      ]
     },
     "execution_count": 19,
     "metadata": {},
     "output_type": "execute_result"
    }
   ],
   "source": [
    "x = torch.Tensor([[1, 2], [3, 4]])\n",
    "x"
   ]
  },
  {
   "cell_type": "markdown",
   "id": "16184897",
   "metadata": {},
   "source": [
    "# 다양한 함수"
   ]
  },
  {
   "cell_type": "code",
   "execution_count": 20,
   "id": "2cb34a2a",
   "metadata": {
    "scrolled": true
   },
   "outputs": [
    {
     "name": "stdout",
     "output_type": "stream",
     "text": [
      "tensor(10.)\n",
      "tensor([4., 6.])\n",
      "tensor([3., 7.])\n"
     ]
    }
   ],
   "source": [
    "print(x.sum()) # 단순히 원소 전체의 덧셈을 수행\n",
    "print(x.sum(dim=0)) # 열을 기준으로 덧셈\n",
    "print(x.sum(dim=1)) # 행을 기준으로 덧셈"
   ]
  },
  {
   "cell_type": "code",
   "execution_count": 21,
   "id": "b29be6f2",
   "metadata": {},
   "outputs": [
    {
     "name": "stdout",
     "output_type": "stream",
     "text": [
      "tensor(2.5000)\n",
      "tensor([2., 3.])\n",
      "tensor([1.5000, 3.5000])\n"
     ]
    }
   ],
   "source": [
    "print(x.mean()) # 단순히 원소 전체의 평균 수행\n",
    "print(x.mean(dim=0)) # 열을 기준으로 평균\n",
    "print(x.mean(dim=1)) # 행을 기준으로 평균"
   ]
  },
  {
   "cell_type": "markdown",
   "id": "eaf817da",
   "metadata": {},
   "source": [
    "Max: 원소의 최대값을 리턴\n",
    "ArgMax: 최대값을 가진 인덱스를 리턴"
   ]
  },
  {
   "cell_type": "code",
   "execution_count": 22,
   "id": "1da0cfd8",
   "metadata": {},
   "outputs": [
    {
     "name": "stdout",
     "output_type": "stream",
     "text": [
      "Max:  tensor([3., 4.])\n",
      "Argmax:  tensor([1, 1])\n"
     ]
    }
   ],
   "source": [
    "print('Max: ', x.max(dim=0)[0])\n",
    "print('Argmax: ', x.max(dim=0)[1])"
   ]
  },
  {
   "cell_type": "markdown",
   "id": "c042c9ec",
   "metadata": {},
   "source": [
    "# Pytorch로 뉴런을 하나 만들어 봅시다."
   ]
  },
  {
   "cell_type": "markdown",
   "id": "6632180b",
   "metadata": {},
   "source": [
    "https://towardsdatascience.com/under-the-hood-of-deep-learning-e8bb39aec5d2"
   ]
  },
  {
   "cell_type": "code",
   "execution_count": 23,
   "id": "534e9248",
   "metadata": {},
   "outputs": [
    {
     "data": {
      "image/png": "[encoded data removed]",
      "text/plain": [
       "<IPython.core.display.Image object>"
      ]
     },
     "execution_count": 23,
     "metadata": {},
     "output_type": "execute_result"
    }
   ],
   "source": [
    "from IPython.display import Image\n",
    "Image(\"./img/img1.png\")"
   ]
  },
  {
   "cell_type": "code",
   "execution_count": 24,
   "id": "f382e0dc",
   "metadata": {},
   "outputs": [
    {
     "data": {
      "text/plain": [
       "tensor([[-0.2098, -0.6526, -0.0466, -0.2062, -0.4487, -1.4759,  0.0203,  0.0056,\n",
       "         -0.2410, -1.3736]])"
      ]
     },
     "execution_count": 24,
     "metadata": {},
     "output_type": "execute_result"
    }
   ],
   "source": [
    "input_img = torch.randn((1,10))\n",
    "input_img"
   ]
  },
  {
   "cell_type": "code",
   "execution_count": 25,
   "id": "4b2012b3",
   "metadata": {},
   "outputs": [
    {
     "data": {
      "text/plain": [
       "tensor([[ 1.0544, -2.2222, -1.1495, -0.5104, -0.6196,  0.3591, -1.6357, -1.4145,\n",
       "         -0.0335,  0.4339]])"
      ]
     },
     "execution_count": 25,
     "metadata": {},
     "output_type": "execute_result"
    }
   ],
   "source": [
    "weights = torch.randn_like(input_img)\n",
    "weights"
   ]
  },
  {
   "cell_type": "code",
   "execution_count": 26,
   "id": "7ded39b6",
   "metadata": {},
   "outputs": [
    {
     "data": {
      "text/plain": [
       "tensor([[0.5889]])"
      ]
     },
     "execution_count": 26,
     "metadata": {},
     "output_type": "execute_result"
    }
   ],
   "source": [
    "bias = torch.randn((1,1))\n",
    "bias"
   ]
  },
  {
   "cell_type": "code",
   "execution_count": 27,
   "id": "6eb6b802",
   "metadata": {},
   "outputs": [],
   "source": [
    "output = torch.sum(input_img * weights) + bias"
   ]
  },
  {
   "cell_type": "code",
   "execution_count": 28,
   "id": "4555ac7d",
   "metadata": {},
   "outputs": [],
   "source": [
    "def sigmoid (x):\n",
    "    return 1/(1+torch.exp(-x))"
   ]
  },
  {
   "cell_type": "code",
   "execution_count": 29,
   "id": "4d5ffeed",
   "metadata": {},
   "outputs": [
    {
     "data": {
      "text/plain": [
       "tensor([[0.7494]])"
      ]
     },
     "execution_count": 29,
     "metadata": {},
     "output_type": "execute_result"
    }
   ],
   "source": [
    "activation= sigmoid(output)\n",
    "activation"
   ]
  },
  {
   "cell_type": "code",
   "execution_count": 30,
   "id": "cd325eba",
   "metadata": {},
   "outputs": [
    {
     "ename": "RuntimeError",
     "evalue": "mat1 and mat2 shapes cannot be multiplied (1x10 and 1x10)",
     "output_type": "error",
     "traceback": [
      "\u001b[0;31m---------------------------------------------------------------------------\u001b[0m",
      "\u001b[0;31mRuntimeError\u001b[0m                              Traceback (most recent call last)",
      "\u001b[0;32m/tmp/ipykernel_8689/3982894263.py\u001b[0m in \u001b[0;36m<module>\u001b[0;34m\u001b[0m\n\u001b[0;32m----> 1\u001b[0;31m \u001b[0moutput\u001b[0m \u001b[0;34m=\u001b[0m \u001b[0mtorch\u001b[0m\u001b[0;34m.\u001b[0m\u001b[0mmm\u001b[0m\u001b[0;34m(\u001b[0m\u001b[0minput_img\u001b[0m\u001b[0;34m,\u001b[0m \u001b[0mweights\u001b[0m\u001b[0;34m)\u001b[0m \u001b[0;34m+\u001b[0m \u001b[0mbias\u001b[0m\u001b[0;34m\u001b[0m\u001b[0;34m\u001b[0m\u001b[0m\n\u001b[0m",
      "\u001b[0;31mRuntimeError\u001b[0m: mat1 and mat2 shapes cannot be multiplied (1x10 and 1x10)"
     ]
    }
   ],
   "source": [
    "output = torch.mm(input_img, weights) + bias"
   ]
  },
  {
   "cell_type": "markdown",
   "id": "dead571e",
   "metadata": {},
   "source": [
    "matmul는 벡터 두개를 내적하는 함수이고, 앞서 이론시간에 설명한 것처럼 (1*10) (1*10) 벡터 두개를 내적할 수 없고 하나를 Transpose해줘야한다.\n",
    "이를 가능하게 하는 함수는 여러가지가 있다.\n",
    "1. resize\n",
    "2. reshape\n",
    "3. view\n",
    "4. torch.transpose"
   ]
  },
  {
   "cell_type": "code",
   "execution_count": 31,
   "id": "2fe3c904",
   "metadata": {},
   "outputs": [
    {
     "data": {
      "text/plain": [
       "tensor([[1.0956]])"
      ]
     },
     "execution_count": 31,
     "metadata": {},
     "output_type": "execute_result"
    }
   ],
   "source": [
    "output = torch.mm(input_img, weights.transpose(0,1)) + bias\n",
    "output"
   ]
  },
  {
   "cell_type": "code",
   "execution_count": 32,
   "id": "47671b1b",
   "metadata": {},
   "outputs": [
    {
     "name": "stderr",
     "output_type": "stream",
     "text": [
      "/home/dilab/anaconda3/envs/pysyft2/lib/python3.9/site-packages/torch/tensor.py:474: UserWarning: non-inplace resize is deprecated\n",
      "  warnings.warn(\"non-inplace resize is deprecated\")\n"
     ]
    },
    {
     "data": {
      "text/plain": [
       "tensor([[1.0956]])"
      ]
     },
     "execution_count": 32,
     "metadata": {},
     "output_type": "execute_result"
    }
   ],
   "source": [
    "output = torch.mm(input_img, weights.resize(10,1)) + bias\n",
    "output"
   ]
  },
  {
   "cell_type": "code",
   "execution_count": 33,
   "id": "b255b593",
   "metadata": {},
   "outputs": [
    {
     "data": {
      "text/plain": [
       "tensor([[1.0956]])"
      ]
     },
     "execution_count": 33,
     "metadata": {},
     "output_type": "execute_result"
    }
   ],
   "source": [
    "output = torch.mm(input_img, weights.reshape(10,1)) + bias\n",
    "output"
   ]
  },
  {
   "cell_type": "code",
   "execution_count": 34,
   "id": "f7443dfd",
   "metadata": {},
   "outputs": [
    {
     "data": {
      "text/plain": [
       "tensor([[1.0956]])"
      ]
     },
     "execution_count": 34,
     "metadata": {},
     "output_type": "execute_result"
    }
   ],
   "source": [
    "output = torch.mm(input_img, weights.view(10,1)) + bias\n",
    "output"
   ]
  },
  {
   "cell_type": "markdown",
   "id": "29d776c6",
   "metadata": {},
   "source": [
    "# 두개의 뉴런"
   ]
  },
  {
   "cell_type": "code",
   "execution_count": 35,
   "id": "16ee57b9",
   "metadata": {},
   "outputs": [],
   "source": [
    "input_img = torch.randn((1,3))"
   ]
  },
  {
   "cell_type": "code",
   "execution_count": 36,
   "id": "93c53b80",
   "metadata": {},
   "outputs": [],
   "source": [
    "n_inputs = input_img.shape[1] #3\n",
    "n_neurons = 2\n",
    "n_ouputs = 1"
   ]
  },
  {
   "cell_type": "code",
   "execution_count": 37,
   "id": "e1ee6f5c",
   "metadata": {},
   "outputs": [],
   "source": [
    "W1 = torch.randn((n_inputs, n_neurons)) #3*2\n",
    "W2 = torch.randn((n_neurons, n_ouputs)) #2*1"
   ]
  },
  {
   "cell_type": "code",
   "execution_count": 38,
   "id": "d6dc74bd",
   "metadata": {},
   "outputs": [],
   "source": [
    "B1 = torch.randn((1, n_neurons)) #1*2\n",
    "B2 = torch.randn((1, n_ouputs)) # 1*1"
   ]
  },
  {
   "cell_type": "code",
   "execution_count": 39,
   "id": "20f7e286",
   "metadata": {},
   "outputs": [],
   "source": [
    "h1 = sigmoid(torch.mm(input_img, W1) + B1)  # (1*3) * (3*2)   (1*2)\n",
    "output = sigmoid(torch.mm(h1, W2) + B2)  # (1*2) (2*1) = (1*1)"
   ]
  },
  {
   "cell_type": "code",
   "execution_count": 40,
   "id": "b0df0aa8",
   "metadata": {},
   "outputs": [
    {
     "data": {
      "text/plain": [
       "tensor([[0.7315]])"
      ]
     },
     "execution_count": 40,
     "metadata": {},
     "output_type": "execute_result"
    }
   ],
   "source": [
    "output"
   ]
  },
  {
   "cell_type": "markdown",
   "id": "ffa92b1c",
   "metadata": {},
   "source": [
    "# Autograd"
   ]
  },
  {
   "cell_type": "code",
   "execution_count": 41,
   "id": "7aba3a12",
   "metadata": {},
   "outputs": [
    {
     "name": "stdout",
     "output_type": "stream",
     "text": [
      "tensor([1.], requires_grad=True)\n",
      "tensor([3.], grad_fn=<AddBackward0>)\n",
      "===== Run backward =====\n",
      "tensor([3.], grad_fn=<AddBackward0>)\n"
     ]
    }
   ],
   "source": [
    "x = torch.ones((1), requires_grad=True)\n",
    "print(x)\n",
    "y = x + 2\n",
    "print(y)\n",
    "print(\"===== Run backward =====\")\n",
    "y.backward()\n",
    "print(y)"
   ]
  },
  {
   "cell_type": "code",
   "execution_count": 42,
   "id": "697e6a70",
   "metadata": {},
   "outputs": [
    {
     "data": {
      "text/plain": [
       "tensor([1.])"
      ]
     },
     "execution_count": 42,
     "metadata": {},
     "output_type": "execute_result"
    }
   ],
   "source": [
    "x.grad #기울기"
   ]
  },
  {
   "cell_type": "code",
   "execution_count": 43,
   "id": "0d37ed40",
   "metadata": {},
   "outputs": [
    {
     "data": {
      "text/plain": [
       "tensor([[ 0.9220,  0.0198],\n",
       "        [ 1.6901, -1.2091]], requires_grad=True)"
      ]
     },
     "execution_count": 43,
     "metadata": {},
     "output_type": "execute_result"
    }
   ],
   "source": [
    "x = torch.randn((2,2), requires_grad=True)\n",
    "x"
   ]
  },
  {
   "cell_type": "code",
   "execution_count": 44,
   "id": "63d37b26",
   "metadata": {},
   "outputs": [
    {
     "data": {
      "text/plain": [
       "tensor([[2.9220, 2.0198],\n",
       "        [3.6901, 0.7909]], grad_fn=<AddBackward0>)"
      ]
     },
     "execution_count": 44,
     "metadata": {},
     "output_type": "execute_result"
    }
   ],
   "source": [
    "y = x + 2\n",
    "y"
   ]
  },
  {
   "cell_type": "code",
   "execution_count": 45,
   "id": "11e4ff64",
   "metadata": {},
   "outputs": [
    {
     "data": {
      "text/plain": [
       "tensor([[25.6145, 12.2384],\n",
       "        [40.8497,  1.8765]], grad_fn=<MulBackward0>)"
      ]
     },
     "execution_count": 45,
     "metadata": {},
     "output_type": "execute_result"
    }
   ],
   "source": [
    "z = y * y * 3\n",
    "z"
   ]
  },
  {
   "cell_type": "code",
   "execution_count": 46,
   "id": "683930ab",
   "metadata": {},
   "outputs": [
    {
     "data": {
      "text/plain": [
       "tensor(20.1448, grad_fn=<MeanBackward0>)"
      ]
     },
     "execution_count": 46,
     "metadata": {},
     "output_type": "execute_result"
    }
   ],
   "source": [
    "out = z.mean()\n",
    "out"
   ]
  },
  {
   "cell_type": "code",
   "execution_count": 47,
   "id": "d8020021",
   "metadata": {},
   "outputs": [],
   "source": [
    "x.grad"
   ]
  },
  {
   "cell_type": "code",
   "execution_count": 48,
   "id": "29d39fbc",
   "metadata": {},
   "outputs": [],
   "source": [
    "out.backward()"
   ]
  },
  {
   "cell_type": "code",
   "execution_count": 49,
   "id": "da03d7c6",
   "metadata": {},
   "outputs": [
    {
     "data": {
      "text/plain": [
       "tensor([[4.3830, 3.0297],\n",
       "        [5.5351, 1.1863]])"
      ]
     },
     "execution_count": 49,
     "metadata": {},
     "output_type": "execute_result"
    }
   ],
   "source": [
    "x.grad"
   ]
  },
  {
   "cell_type": "markdown",
   "id": "a2170aa3",
   "metadata": {},
   "source": [
    "# chain rule 계산\n",
    "\n",
    "out  = $\\frac{1}{4}\\sum_{i=4}^{4}{z_i}$ 이고, $z_i=3(x_i+2)^2$이고, $z_{x=1}$일때, 27이다.\n",
    "여기서 그라디언트의 chain rule을 사용해보면 $\\frac{ \\displaystyle \\Delta Out}{\\displaystyle \\Delta x_i}= \\frac{\\displaystyle \\Delta Out}{\\displaystyle \\Delta z_i} \\cdot \\frac{\\displaystyle \\Delta z_i}{\\displaystyle \\Delta x_i} $로 구할 수 있다.\n",
    "\n",
    "여기서 $\\frac{\\displaystyle \\Delta Out}{\\displaystyle \\Delta z_i}$의 값은 $\\frac{1}{4}$이며, $\\frac{\\displaystyle \\Delta z_i}{\\displaystyle \\Delta x_i}$는 $6(x_i+2)$ 이며, 두개를 곱하면 $\\frac{3}{2}(x_i+2)$로 표현된다.\n"
   ]
  },
  {
   "cell_type": "code",
   "execution_count": 50,
   "id": "93e53885",
   "metadata": {},
   "outputs": [
    {
     "data": {
      "text/plain": [
       "tensor([[4.3830, 3.0297],\n",
       "        [5.5351, 1.1863]], grad_fn=<MulBackward0>)"
      ]
     },
     "execution_count": 50,
     "metadata": {},
     "output_type": "execute_result"
    }
   ],
   "source": [
    "(3/2)*(x+2)"
   ]
  },
  {
   "cell_type": "code",
   "execution_count": null,
   "id": "59370d1b",
   "metadata": {},
   "outputs": [],
   "source": []
  },
  {
   "cell_type": "code",
   "execution_count": null,
   "id": "3485ec49",
   "metadata": {},
   "outputs": [],
   "source": []
  },
  {
   "cell_type": "code",
   "execution_count": null,
   "id": "eafdf3a8",
   "metadata": {},
   "outputs": [],
   "source": []
  },
  {
   "cell_type": "code",
   "execution_count": null,
   "id": "53b67d3c",
   "metadata": {},
   "outputs": [],
   "source": []
  }
 ],
 "metadata": {
  "kernelspec": {
   "display_name": "pysyft2",
   "language": "python",
   "name": "pysyft2"
  },
  "language_info": {
   "codemirror_mode": {
    "name": "ipython",
    "version": 3
   },
   "file_extension": ".py",
   "mimetype": "text/x-python",
   "name": "python",
   "nbconvert_exporter": "python",
   "pygments_lexer": "ipython3",
   "version": "3.9.5"
  }
 },
 "nbformat": 4,
 "nbformat_minor": 5
}
