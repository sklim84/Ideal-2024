{
 "cells": [
  {
   "cell_type": "markdown",
   "id": "d06509dd",
   "metadata": {},
   "source": [
    "# Pysyft2 환경에서 정상동작합니다."
   ]
  },
  {
   "cell_type": "code",
   "execution_count": 1,
   "id": "6b72cfe6",
   "metadata": {},
   "outputs": [],
   "source": [
    "import torch, torchvision\n",
    "from torchvision import transforms\n",
    "import matplotlib.pyplot as plt\n",
    "import numpy as np"
   ]
  },
  {
   "cell_type": "code",
   "execution_count": 2,
   "id": "3b6213cb",
   "metadata": {},
   "outputs": [],
   "source": [
    "%config Completer.use_jedi = False"
   ]
  },
  {
   "cell_type": "code",
   "execution_count": 3,
   "id": "5d6c2506",
   "metadata": {},
   "outputs": [],
   "source": [
    "from ipynb.fs.full.FLDataset import load_dataset, getImgs, getData"
   ]
  },
  {
   "cell_type": "code",
   "execution_count": 4,
   "id": "74c3d78b",
   "metadata": {},
   "outputs": [],
   "source": [
    "clients=2"
   ]
  },
  {
   "cell_type": "code",
   "execution_count": 5,
   "id": "0c3e9622",
   "metadata": {},
   "outputs": [],
   "source": [
    "global_train, global_test, train_group, test_group = load_dataset(clients, \"iid\")"
   ]
  },
  {
   "cell_type": "code",
   "execution_count": 6,
   "id": "bb517c36",
   "metadata": {
    "scrolled": true
   },
   "outputs": [
    {
     "data": {
      "text/plain": [
       "(2, 30000)"
      ]
     },
     "execution_count": 6,
     "metadata": {},
     "output_type": "execute_result"
    }
   ],
   "source": [
    "(len(train_group),len(train_group[0]))"
   ]
  },
  {
   "cell_type": "code",
   "execution_count": 7,
   "id": "ecf0ef8d",
   "metadata": {},
   "outputs": [],
   "source": [
    "def getXY(dataset):\n",
    "    for i in range(len(dataset)):\n",
    "        if i==0:\n",
    "            img, label=dataset[i]\n",
    "        else:\n",
    "            img1, label1=dataset[i]\n",
    "            img=torch.vstack((img, img1))\n",
    "            label = torch.vstack((label, label1))\n",
    "    return np.reshape(img,(-1,1,28,28)), torch.reshape(label, (-1,))"
   ]
  },
  {
   "cell_type": "code",
   "execution_count": 8,
   "id": "8def6c31",
   "metadata": {},
   "outputs": [
    {
     "name": "stderr",
     "output_type": "stream",
     "text": [
      "/home/dilab/연합학습/FLDataset.ipynb:151: UserWarning: To copy construct from a tensor, it is recommended to use sourceTensor.clone().detach() or sourceTensor.clone().detach().requires_grad_(True), rather than torch.tensor(sourceTensor).\n",
      "  \"                clients_dict[k] = np.concatenate((clients_dict[k], indices[t*images:(t+1)*images]), axis=0)\\n\",\n"
     ]
    },
    {
     "name": "stdout",
     "output_type": "stream",
     "text": [
      "torch.Size([30000, 1, 28, 28]) torch.Size([30000])\n",
      "torch.Size([30000, 1, 28, 28]) torch.Size([30000])\n"
     ]
    }
   ],
   "source": [
    "for i in range(clients):\n",
    "    traindata = getData(global_train, list(train_group[i]))\n",
    "    testdata = getData(global_test, list(test_group[i]))\n",
    "    x_train, y_train = getXY(traindata)\n",
    "    x_test, y_test = getXY(testdata)\n",
    "    filename=\"client\"+ str(i+1)\n",
    "    np.savez(\"./dataset/\"+filename, x_train=x_train, y_train=y_train, x_test=x_test, y_test=y_test)\n",
    "    print(x_train.shape, y_train.shape)"
   ]
  },
  {
   "cell_type": "code",
   "execution_count": 9,
   "id": "a3ff0416",
   "metadata": {},
   "outputs": [
    {
     "name": "stdout",
     "output_type": "stream",
     "text": [
      "(30000, 1, 28, 28) (30000,) (5000, 1, 28, 28) (5000,)\n"
     ]
    }
   ],
   "source": [
    "client1=np.load(\"./dataset/client1.npz\")\n",
    "print(client1.get(\"x_train\").shape, client1.get(\"y_train\").shape, client1.get(\"x_test\").shape, client1.get(\"y_test\").shape)"
   ]
  },
  {
   "cell_type": "code",
   "execution_count": 10,
   "id": "a3c8726f",
   "metadata": {},
   "outputs": [
    {
     "name": "stdout",
     "output_type": "stream",
     "text": [
      "(30000, 1, 28, 28) (30000,) (5000, 1, 28, 28) (5000,)\n"
     ]
    }
   ],
   "source": [
    "client2=np.load(\"./dataset/client2.npz\")\n",
    "print(client2.get(\"x_train\").shape, client2.get(\"y_train\").shape, client2.get(\"x_test\").shape, client2.get(\"y_test\").shape)"
   ]
  },
  {
   "cell_type": "code",
   "execution_count": 11,
   "id": "9afb9afc",
   "metadata": {},
   "outputs": [
    {
     "data": {
      "text/plain": [
       "array([5, 0, 1, 9, 1])"
      ]
     },
     "execution_count": 11,
     "metadata": {},
     "output_type": "execute_result"
    }
   ],
   "source": [
    "client1.get(\"y_train\")[0:5]"
   ]
  },
  {
   "cell_type": "code",
   "execution_count": null,
   "id": "0eab136d",
   "metadata": {},
   "outputs": [],
   "source": []
  }
 ],
 "metadata": {
  "kernelspec": {
   "display_name": "pysyft2",
   "language": "python",
   "name": "pysyft2"
  },
  "language_info": {
   "codemirror_mode": {
    "name": "ipython",
    "version": 3
   },
   "file_extension": ".py",
   "mimetype": "text/x-python",
   "name": "python",
   "nbconvert_exporter": "python",
   "pygments_lexer": "ipython3",
   "version": "3.9.5"
  }
 },
 "nbformat": 4,
 "nbformat_minor": 5
}
